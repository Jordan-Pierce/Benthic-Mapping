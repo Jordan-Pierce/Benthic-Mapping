{
 "cells": [
  {
   "cell_type": "code",
   "execution_count": 1,
   "metadata": {},
   "outputs": [],
   "source": [
    "import os\n",
    "import glob\n",
    "\n",
    "import fiftyone as fo\n",
    "\n",
    "from benthic_mapping.download_media import MediaDownloader\n",
    "from benthic_mapping.fiftyone_clustering import FiftyOneDatasetViewer\n",
    "from benthic_mapping.download_labeled_data import LabeledDataDownloader"
   ]
  },
  {
   "cell_type": "markdown",
   "metadata": {},
   "source": [
    "# Download Media (frames) from Tator"
   ]
  },
  {
   "cell_type": "code",
   "execution_count": 2,
   "metadata": {},
   "outputs": [
    {
     "name": "stdout",
     "output_type": "stream",
     "text": [
      "NOTE: Authentication successful for jordan.pierce\n",
      "NOTE: Media GL2301_VID_20230725T145731Z_D015_DROPCAM_HIGH.mp4 downloaded successfully to ../Data\\Raw_Videos\\GL2301_VID_20230725T145731Z_D015_DROPCAM_HIGH_converted.mp4\n",
      "NOTE: Extracting frames from GL2301_VID_20230725T145731Z_D015_DROPCAM_HIGH.mp4...\n",
      "Video duration: 381.88 seconds\n",
      "Extracting 127 frames using 16 workers...\n",
      "Successfully extracted 127 frames to ../Data\\Extracted_Frames\\GL2301_VID_20230725T145731Z_D015_DROPCAM_HIGH_converted\n"
     ]
    },
    {
     "data": {
      "text/plain": [
       "['../Data\\\\Raw_Videos\\\\GL2301_VID_20230725T145731Z_D015_DROPCAM_HIGH_converted.mp4']"
      ]
     },
     "execution_count": 2,
     "metadata": {},
     "output_type": "execute_result"
    }
   ],
   "source": [
    "# Initialize the downloader with the required parameters\n",
    "downloader = MediaDownloader(\n",
    "    api_token=os.getenv(\"TATOR_TOKEN\"),\n",
    "    project_id=155,\n",
    "    output_dir=\"../Data\"\n",
    ")\n",
    "\n",
    "# Download the media\n",
    "media_ids = [\"14759824\"]\n",
    "downloader.download_data(media_ids, \n",
    "                         convert=False, \n",
    "                         extract=True, \n",
    "                         every_n_seconds=3)"
   ]
  },
  {
   "cell_type": "code",
   "execution_count": 3,
   "metadata": {},
   "outputs": [
    {
     "data": {
      "text/plain": [
       "{'14759824': {'original': '../Data\\\\Raw_Videos\\\\GL2301_VID_20230725T145731Z_D015_DROPCAM_HIGH_converted.mp4',\n",
       "  'converted': None,\n",
       "  'frames': '../Data\\\\Extracted_Frames\\\\GL2301_VID_20230725T145731Z_D015_DROPCAM_HIGH_converted'}}"
      ]
     },
     "execution_count": 3,
     "metadata": {},
     "output_type": "execute_result"
    }
   ],
   "source": [
    "downloader.media_path_map"
   ]
  },
  {
   "cell_type": "markdown",
   "metadata": {},
   "source": [
    "# View Clustered Frames from Tator using Fiftyone"
   ]
  },
  {
   "cell_type": "code",
   "execution_count": 4,
   "metadata": {},
   "outputs": [
    {
     "name": "stdout",
     "output_type": "stream",
     "text": [
      "Overwriting existing dataset: GL2301_VID_20230725T145731Z_D015_DROPCAM_HIGH_converted\n"
     ]
    },
    {
     "name": "stderr",
     "output_type": "stream",
     "text": [
      "Processing images: 100%|██████████| 127/127 [00:06<00:00, 20.27it/s]"
     ]
    },
    {
     "name": "stdout",
     "output_type": "stream",
     "text": [
      "   1% ||----------------|   1/127 [18.3ms elapsed, 2.3s remaining, 54.8 samples/s] "
     ]
    },
    {
     "name": "stderr",
     "output_type": "stream",
     "text": [
      "\n"
     ]
    },
    {
     "name": "stdout",
     "output_type": "stream",
     "text": [
      " 100% |█████████████████| 127/127 [99.4ms elapsed, 0s remaining, 1.3K samples/s]   \n",
      "Computing embeddings...\n",
      "Computing UMAP visualization...\n",
      "Generating visualization...\n"
     ]
    },
    {
     "name": "stderr",
     "output_type": "stream",
     "text": [
      "c:\\Users\\jordan.pierce\\.conda\\envs\\bm\\lib\\site-packages\\sklearn\\utils\\deprecation.py:151: FutureWarning: 'force_all_finite' was renamed to 'ensure_all_finite' in 1.6 and will be removed in 1.8.\n",
      "  warnings.warn(\n",
      "c:\\Users\\jordan.pierce\\.conda\\envs\\bm\\lib\\site-packages\\umap\\umap_.py:1952: UserWarning: n_jobs value 1 overridden to 1 by setting random_state. Use no seed for parallelism.\n",
      "  warn(\n"
     ]
    },
    {
     "name": "stdout",
     "output_type": "stream",
     "text": [
      "UMAP(n_jobs=1, random_state=51, verbose=True)\n",
      "Fri Feb 28 23:04:42 2025 Construct fuzzy simplicial set\n",
      "Fri Feb 28 23:04:43 2025 Finding Nearest Neighbors\n",
      "Fri Feb 28 23:04:50 2025 Finished Nearest Neighbor Search\n",
      "Fri Feb 28 23:04:54 2025 Construct embedding\n"
     ]
    },
    {
     "data": {
      "application/vnd.jupyter.widget-view+json": {
       "model_id": "e608e5692bcf49ea867d179dd0d68e0b",
       "version_major": 2,
       "version_minor": 0
      },
      "text/plain": [
       "Epochs completed:   0%|            0/500 [00:00]"
      ]
     },
     "metadata": {},
     "output_type": "display_data"
    },
    {
     "name": "stdout",
     "output_type": "stream",
     "text": [
      "\tcompleted  0  /  500 epochs\n",
      "\tcompleted  50  /  500 epochs\n",
      "\tcompleted  100  /  500 epochs\n",
      "\tcompleted  150  /  500 epochs\n",
      "\tcompleted  200  /  500 epochs\n",
      "\tcompleted  250  /  500 epochs\n",
      "\tcompleted  300  /  500 epochs\n",
      "\tcompleted  350  /  500 epochs\n",
      "\tcompleted  400  /  500 epochs\n",
      "\tcompleted  450  /  500 epochs\n",
      "Fri Feb 28 23:04:55 2025 Finished embedding\n"
     ]
    }
   ],
   "source": [
    "# Initialize the viewer with the path to the directory containing images\n",
    "viewer = FiftyOneDatasetViewer(image_dir=downloader.media_path_map['14759824']['frames'])\n",
    "\n",
    "# Process the dataset to create the FiftyOne dataset and generate the UMAP visualization\n",
    "viewer.process_dataset()"
   ]
  },
  {
   "cell_type": "code",
   "execution_count": null,
   "metadata": {},
   "outputs": [
    {
     "data": {
      "text/html": [
       "\n",
       "        <iframe\n",
       "            width=\"100%\"\n",
       "            height=\"800\"\n",
       "            src=\"http://localhost:5151/?notebook=True&subscription=b879e316-ad95-4476-8590-365129923654\"\n",
       "            frameborder=\"0\"\n",
       "            allowfullscreen\n",
       "            \n",
       "        ></iframe>\n",
       "        "
      ],
      "text/plain": [
       "<IPython.lib.display.IFrame at 0x276ae063910>"
      ]
     },
     "metadata": {},
     "output_type": "display_data"
    }
   ],
   "source": [
    "# Launch the FiftyOne app\n",
    "try:\n",
    "    session = fo.launch_app(viewer.dataset)\n",
    "except:\n",
    "    session = fo.launch_app(viewer.dataset)"
   ]
  },
  {
   "cell_type": "markdown",
   "metadata": {},
   "source": [
    "# Download Labeled Data from Tator"
   ]
  },
  {
   "cell_type": "code",
   "execution_count": 2,
   "metadata": {},
   "outputs": [],
   "source": [
    "# Set parameters\n",
    "api_token = os.getenv(\"TATOR_TOKEN\")\n",
    "project_id = 155  # 70\n",
    "\n",
    "# Search string comes from Tator's Data Metadata Export utility\n",
    "search_string = \"eyJtZXRob2QiOiJBTkQiLCJvcGVyYXRpb25zIjpbeyJhdHRyaWJ1dGUiOiIkY3JlYXRlZF9ieSIsIm9wZXJhdGlvbiI6ImVxIiwiaW52ZXJzZSI6ZmFsc2UsInZhbHVlIjo1MDZ9LHsibWV0aG9kIjoiT1IiLCJvcGVyYXRpb25zIjpbeyJhdHRyaWJ1dGUiOiIkdHlwZSIsIm9wZXJhdGlvbiI6ImVxIiwiaW52ZXJzZSI6ZmFsc2UsInZhbHVlIjo0NjB9LHsiYXR0cmlidXRlIjoiJHR5cGUiLCJvcGVyYXRpb24iOiJlcSIsImludmVyc2UiOmZhbHNlLCJ2YWx1ZSI6NTUzfV19XX0=\"\n",
    "\n",
    "# Demo for downloading labeled data\n",
    "frac = 0.1\n",
    "\n",
    "dataset_name = \"benthic_demo\"\n",
    "output_dir = \"../Data/Labeled_Data\"\n",
    "\n",
    "label_field = \"Label\"\n",
    "task = \"detect\"  # \"detect\" for bboxes or \"segment\" for polygons (if applicable)"
   ]
  },
  {
   "cell_type": "code",
   "execution_count": 3,
   "metadata": {},
   "outputs": [
    {
     "name": "stdout",
     "output_type": "stream",
     "text": [
      "NOTE: Authentication successful for jordan.pierce\n",
      "NOTE: Search string saved to e:\\Benthic-Mapping\\Data\\Labeled_Data\\benthic_demo\\search_string.txt\n"
     ]
    }
   ],
   "source": [
    "# Create a downloader for the labeled data\n",
    "downloader = LabeledDataDownloader(api_token,\n",
    "                                   project_id=project_id,\n",
    "                                   search_string=search_string,\n",
    "                                   frac=frac,\n",
    "                                   output_dir=output_dir,\n",
    "                                   dataset_name=dataset_name,\n",
    "                                   label_field=label_field,\n",
    "                                   task=task)"
   ]
  },
  {
   "cell_type": "code",
   "execution_count": 4,
   "metadata": {},
   "outputs": [
    {
     "name": "stdout",
     "output_type": "stream",
     "text": [
      "NOTE: Querying Tator for labeled data\n",
      "NOTE: Found 8645 localizations\n"
     ]
    },
    {
     "name": "stderr",
     "output_type": "stream",
     "text": [
      "Processing Query: 100%|██████████| 8645/8645 [00:00<00:00, 11541.39it/s]\n"
     ]
    },
    {
     "name": "stdout",
     "output_type": "stream",
     "text": [
      "NOTE: Found 904 localizations after sampling\n",
      "NOTE: Data saved to e:\\Benthic-Mapping\\Data\\Labeled_Data\\benthic_demo\\data.json\n",
      "NOTE: Downloading images to e:\\Benthic-Mapping\\Data\\Labeled_Data\\benthic_demo\\images\n"
     ]
    },
    {
     "name": "stderr",
     "output_type": "stream",
     "text": [
      "Downloading images: 100%|██████████| 20/20 [00:24<00:00,  1.22s/it]"
     ]
    },
    {
     "name": "stdout",
     "output_type": "stream",
     "text": [
      "NOTE: Images downloaded to e:\\Benthic-Mapping\\Data\\Labeled_Data\\benthic_demo\\images\n"
     ]
    },
    {
     "name": "stderr",
     "output_type": "stream",
     "text": [
      "\n"
     ]
    }
   ],
   "source": [
    "# Download the labeled data\n",
    "downloader.download_data()"
   ]
  },
  {
   "cell_type": "code",
   "execution_count": null,
   "metadata": {},
   "outputs": [],
   "source": []
  }
 ],
 "metadata": {
  "kernelspec": {
   "display_name": "bm",
   "language": "python",
   "name": "python3"
  },
  "language_info": {
   "codemirror_mode": {
    "name": "ipython",
    "version": 3
   },
   "file_extension": ".py",
   "mimetype": "text/x-python",
   "name": "python",
   "nbconvert_exporter": "python",
   "pygments_lexer": "ipython3",
   "version": "3.10.16"
  }
 },
 "nbformat": 4,
 "nbformat_minor": 2
}
