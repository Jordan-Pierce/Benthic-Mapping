{
 "cells": [
  {
   "cell_type": "code",
   "execution_count": 1,
   "metadata": {},
   "outputs": [],
   "source": [
    "import os\n",
    "import glob\n",
    "\n",
    "from benthic_mapping.download_media import MediaDownloader\n",
    "from benthic_mapping.fiftyone_clustering import FiftyOneDatasetViewer"
   ]
  },
  {
   "cell_type": "code",
   "execution_count": 2,
   "metadata": {},
   "outputs": [
    {
     "name": "stdout",
     "output_type": "stream",
     "text": [
      "NOTE: Authentication successful for jordan.pierce\n",
      "NOTE: Media GL2301_VID_20230725T145731Z_D015_DROPCAM_HIGH.mp4 downloaded successfully to ../Data\\Raw_Videos\\GL2301_VID_20230725T145731Z_D015_DROPCAM_HIGH_converted.mp4\n",
      "NOTE: Extracting frames from GL2301_VID_20230725T145731Z_D015_DROPCAM_HIGH.mp4...\n",
      "Video duration: 381.88 seconds\n",
      "Extracting 7 frames using 7 workers...\n",
      "Successfully extracted 7 frames to ../Data\\Extracted_Frames\\GL2301_VID_20230725T145731Z_D015_DROPCAM_HIGH_converted\n"
     ]
    },
    {
     "data": {
      "text/plain": [
       "['../Data\\\\Raw_Videos\\\\GL2301_VID_20230725T145731Z_D015_DROPCAM_HIGH_converted.mp4']"
      ]
     },
     "execution_count": 2,
     "metadata": {},
     "output_type": "execute_result"
    }
   ],
   "source": [
    "# Initialize the downloader with the required parameters\n",
    "downloader = MediaDownloader(\n",
    "    api_token=os.getenv(\"TATOR_TOKEN\"),\n",
    "    project_id=155,\n",
    "    output_dir=\"../Data\"\n",
    ")\n",
    "\n",
    "# Download the media\n",
    "media_ids = [\"14759824\"]\n",
    "downloader.download_data(media_ids, \n",
    "                         convert=False, \n",
    "                         extract=True, \n",
    "                         every_n_seconds=60)"
   ]
  },
  {
   "cell_type": "code",
   "execution_count": 7,
   "metadata": {},
   "outputs": [
    {
     "data": {
      "text/plain": [
       "{'14759824': {'original': '../Data\\\\Raw_Videos\\\\GL2301_VID_20230725T145731Z_D015_DROPCAM_HIGH_converted.mp4',\n",
       "  'converted': None,\n",
       "  'frames': '../Data\\\\Extracted_Frames\\\\GL2301_VID_20230725T145731Z_D015_DROPCAM_HIGH_converted'}}"
      ]
     },
     "execution_count": 7,
     "metadata": {},
     "output_type": "execute_result"
    }
   ],
   "source": [
    "downloader.media_path_map"
   ]
  }
 ],
 "metadata": {
  "kernelspec": {
   "display_name": "bm",
   "language": "python",
   "name": "python3"
  },
  "language_info": {
   "codemirror_mode": {
    "name": "ipython",
    "version": 3
   },
   "file_extension": ".py",
   "mimetype": "text/x-python",
   "name": "python",
   "nbconvert_exporter": "python",
   "pygments_lexer": "ipython3",
   "version": "3.10.16"
  }
 },
 "nbformat": 4,
 "nbformat_minor": 2
}
